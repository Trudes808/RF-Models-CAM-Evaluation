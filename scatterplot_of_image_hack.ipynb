{
 "cells": [
  {
   "cell_type": "markdown",
   "metadata": {},
   "source": [
    "# experimenting with a hack of showing an image as a scatterplot\n",
    "\n"
   ]
  },
  {
   "cell_type": "markdown",
   "metadata": {},
   "source": [
    "### Imports"
   ]
  },
  {
   "cell_type": "code",
   "execution_count": 5,
   "metadata": {},
   "outputs": [
    {
     "name": "stdout",
     "output_type": "stream",
     "text": [
      "converting image\n",
      "displaying image\n"
     ]
    },
    {
     "ename": "KeyboardInterrupt",
     "evalue": "",
     "output_type": "error",
     "traceback": [
      "\u001b[0;31m---------------------------------------------------------------------------\u001b[0m",
      "\u001b[0;31mKeyboardInterrupt\u001b[0m                         Traceback (most recent call last)",
      "\u001b[1;32m/home/trudes/XAI/fft-score-cam/scatterplot_of_image_hack.ipynb Cell 3\u001b[0m line \u001b[0;36m2\n\u001b[1;32m     <a href='vscode-notebook-cell://wsl%2Bubuntu/home/trudes/XAI/fft-score-cam/scatterplot_of_image_hack.ipynb#W3sdnNjb2RlLXJlbW90ZQ%3D%3D?line=21'>22</a>\u001b[0m \u001b[39mprint\u001b[39m(\u001b[39m\"\u001b[39m\u001b[39mdisplaying image\u001b[39m\u001b[39m\"\u001b[39m)\n\u001b[1;32m     <a href='vscode-notebook-cell://wsl%2Bubuntu/home/trudes/XAI/fft-score-cam/scatterplot_of_image_hack.ipynb#W3sdnNjb2RlLXJlbW90ZQ%3D%3D?line=22'>23</a>\u001b[0m \u001b[39m# Create a scatter plot\u001b[39;00m\n\u001b[0;32m---> <a href='vscode-notebook-cell://wsl%2Bubuntu/home/trudes/XAI/fft-score-cam/scatterplot_of_image_hack.ipynb#W3sdnNjb2RlLXJlbW90ZQ%3D%3D?line=23'>24</a>\u001b[0m fig \u001b[39m=\u001b[39m px\u001b[39m.\u001b[39;49mscatter(df, x\u001b[39m=\u001b[39;49m\u001b[39m'\u001b[39;49m\u001b[39mx\u001b[39;49m\u001b[39m'\u001b[39;49m, y\u001b[39m=\u001b[39;49m\u001b[39m'\u001b[39;49m\u001b[39my\u001b[39;49m\u001b[39m'\u001b[39;49m, color\u001b[39m=\u001b[39;49m\u001b[39m'\u001b[39;49m\u001b[39mcolor\u001b[39;49m\u001b[39m'\u001b[39;49m)\n\u001b[1;32m     <a href='vscode-notebook-cell://wsl%2Bubuntu/home/trudes/XAI/fft-score-cam/scatterplot_of_image_hack.ipynb#W3sdnNjb2RlLXJlbW90ZQ%3D%3D?line=25'>26</a>\u001b[0m \u001b[39m# Update marker properties\u001b[39;00m\n\u001b[1;32m     <a href='vscode-notebook-cell://wsl%2Bubuntu/home/trudes/XAI/fft-score-cam/scatterplot_of_image_hack.ipynb#W3sdnNjb2RlLXJlbW90ZQ%3D%3D?line=26'>27</a>\u001b[0m fig\u001b[39m.\u001b[39mupdate_traces(marker\u001b[39m=\u001b[39m\u001b[39mdict\u001b[39m(size\u001b[39m=\u001b[39m\u001b[39m1\u001b[39m, line\u001b[39m=\u001b[39m\u001b[39mdict\u001b[39m(width\u001b[39m=\u001b[39m\u001b[39m0\u001b[39m), symbol\u001b[39m=\u001b[39m\u001b[39m'\u001b[39m\u001b[39msquare\u001b[39m\u001b[39m'\u001b[39m))\n",
      "File \u001b[0;32m~/.local/lib/python3.8/site-packages/plotly/express/_chart_types.py:66\u001b[0m, in \u001b[0;36mscatter\u001b[0;34m(data_frame, x, y, color, symbol, size, hover_name, hover_data, custom_data, text, facet_row, facet_col, facet_col_wrap, facet_row_spacing, facet_col_spacing, error_x, error_x_minus, error_y, error_y_minus, animation_frame, animation_group, category_orders, labels, orientation, color_discrete_sequence, color_discrete_map, color_continuous_scale, range_color, color_continuous_midpoint, symbol_sequence, symbol_map, opacity, size_max, marginal_x, marginal_y, trendline, trendline_options, trendline_color_override, trendline_scope, log_x, log_y, range_x, range_y, render_mode, title, template, width, height)\u001b[0m\n\u001b[1;32m     12\u001b[0m \u001b[39mdef\u001b[39;00m \u001b[39mscatter\u001b[39m(\n\u001b[1;32m     13\u001b[0m     data_frame\u001b[39m=\u001b[39m\u001b[39mNone\u001b[39;00m,\n\u001b[1;32m     14\u001b[0m     x\u001b[39m=\u001b[39m\u001b[39mNone\u001b[39;00m,\n\u001b[0;32m   (...)\u001b[0m\n\u001b[1;32m     60\u001b[0m     height\u001b[39m=\u001b[39m\u001b[39mNone\u001b[39;00m,\n\u001b[1;32m     61\u001b[0m ) \u001b[39m-\u001b[39m\u001b[39m>\u001b[39m go\u001b[39m.\u001b[39mFigure:\n\u001b[1;32m     62\u001b[0m     \u001b[39m\"\"\"\u001b[39;00m\n\u001b[1;32m     63\u001b[0m \u001b[39m    In a scatter plot, each row of `data_frame` is represented by a symbol\u001b[39;00m\n\u001b[1;32m     64\u001b[0m \u001b[39m    mark in 2D space.\u001b[39;00m\n\u001b[1;32m     65\u001b[0m \u001b[39m    \"\"\"\u001b[39;00m\n\u001b[0;32m---> 66\u001b[0m     \u001b[39mreturn\u001b[39;00m make_figure(args\u001b[39m=\u001b[39;49m\u001b[39mlocals\u001b[39;49m(), constructor\u001b[39m=\u001b[39;49mgo\u001b[39m.\u001b[39;49mScatter)\n",
      "File \u001b[0;32m~/.local/lib/python3.8/site-packages/plotly/express/_core.py:2332\u001b[0m, in \u001b[0;36mmake_figure\u001b[0;34m(args, constructor, trace_patch, layout_patch)\u001b[0m\n\u001b[1;32m   2323\u001b[0m         _set_trace_grid_reference(\n\u001b[1;32m   2324\u001b[0m             trace,\n\u001b[1;32m   2325\u001b[0m             fig\u001b[39m.\u001b[39mlayout,\n\u001b[0;32m   (...)\u001b[0m\n\u001b[1;32m   2328\u001b[0m             trace\u001b[39m.\u001b[39m_subplot_col,\n\u001b[1;32m   2329\u001b[0m         )\n\u001b[1;32m   2331\u001b[0m \u001b[39m# Add traces, layout and frames to figure\u001b[39;00m\n\u001b[0;32m-> 2332\u001b[0m fig\u001b[39m.\u001b[39;49madd_traces(frame_list[\u001b[39m0\u001b[39;49m][\u001b[39m\"\u001b[39;49m\u001b[39mdata\u001b[39;49m\u001b[39m\"\u001b[39;49m] \u001b[39mif\u001b[39;49;00m \u001b[39mlen\u001b[39;49m(frame_list) \u001b[39m>\u001b[39;49m \u001b[39m0\u001b[39;49m \u001b[39melse\u001b[39;49;00m [])\n\u001b[1;32m   2333\u001b[0m fig\u001b[39m.\u001b[39mupdate_layout(layout_patch)\n\u001b[1;32m   2334\u001b[0m \u001b[39mif\u001b[39;00m \u001b[39m\"\u001b[39m\u001b[39mtemplate\u001b[39m\u001b[39m\"\u001b[39m \u001b[39min\u001b[39;00m args \u001b[39mand\u001b[39;00m args[\u001b[39m\"\u001b[39m\u001b[39mtemplate\u001b[39m\u001b[39m\"\u001b[39m] \u001b[39mis\u001b[39;00m \u001b[39mnot\u001b[39;00m \u001b[39mNone\u001b[39;00m:\n",
      "File \u001b[0;32m~/.local/lib/python3.8/site-packages/plotly/graph_objs/_figure.py:980\u001b[0m, in \u001b[0;36mFigure.add_traces\u001b[0;34m(self, data, rows, cols, secondary_ys, exclude_empty_subplots)\u001b[0m\n\u001b[1;32m    904\u001b[0m \u001b[39mdef\u001b[39;00m \u001b[39madd_traces\u001b[39m(\n\u001b[1;32m    905\u001b[0m     \u001b[39mself\u001b[39m,\n\u001b[1;32m    906\u001b[0m     data,\n\u001b[0;32m   (...)\u001b[0m\n\u001b[1;32m    910\u001b[0m     exclude_empty_subplots\u001b[39m=\u001b[39m\u001b[39mFalse\u001b[39;00m,\n\u001b[1;32m    911\u001b[0m ) \u001b[39m-\u001b[39m\u001b[39m>\u001b[39m \u001b[39m\"\u001b[39m\u001b[39mFigure\u001b[39m\u001b[39m\"\u001b[39m:\n\u001b[1;32m    912\u001b[0m     \u001b[39m\"\"\"\u001b[39;00m\n\u001b[1;32m    913\u001b[0m \n\u001b[1;32m    914\u001b[0m \u001b[39m    Add traces to the figure\u001b[39;00m\n\u001b[0;32m   (...)\u001b[0m\n\u001b[1;32m    978\u001b[0m \n\u001b[1;32m    979\u001b[0m \u001b[39m    \"\"\"\u001b[39;00m\n\u001b[0;32m--> 980\u001b[0m     \u001b[39mreturn\u001b[39;00m \u001b[39msuper\u001b[39;49m(Figure, \u001b[39mself\u001b[39;49m)\u001b[39m.\u001b[39;49madd_traces(\n\u001b[1;32m    981\u001b[0m         data, rows, cols, secondary_ys, exclude_empty_subplots\n\u001b[1;32m    982\u001b[0m     )\n",
      "File \u001b[0;32m~/.local/lib/python3.8/site-packages/plotly/basedatatypes.py:2249\u001b[0m, in \u001b[0;36mBaseFigure.add_traces\u001b[0;34m(self, data, rows, cols, secondary_ys, exclude_empty_subplots)\u001b[0m\n\u001b[1;32m   2239\u001b[0m     data \u001b[39m=\u001b[39m \u001b[39mlist\u001b[39m(\n\u001b[1;32m   2240\u001b[0m         \u001b[39mfilter\u001b[39m(\n\u001b[1;32m   2241\u001b[0m             \u001b[39mlambda\u001b[39;00m trace: \u001b[39mself\u001b[39m\u001b[39m.\u001b[39m_subplot_not_empty(\n\u001b[0;32m   (...)\u001b[0m\n\u001b[1;32m   2245\u001b[0m         )\n\u001b[1;32m   2246\u001b[0m     )\n\u001b[1;32m   2248\u001b[0m \u001b[39m# Make deep copy of trace data (Optimize later if needed)\u001b[39;00m\n\u001b[0;32m-> 2249\u001b[0m new_traces_data \u001b[39m=\u001b[39m [deepcopy(trace\u001b[39m.\u001b[39m_props) \u001b[39mfor\u001b[39;00m trace \u001b[39min\u001b[39;00m data]\n\u001b[1;32m   2251\u001b[0m \u001b[39m# Update trace parent\u001b[39;00m\n\u001b[1;32m   2252\u001b[0m \u001b[39mfor\u001b[39;00m trace \u001b[39min\u001b[39;00m data:\n",
      "File \u001b[0;32m~/.local/lib/python3.8/site-packages/plotly/basedatatypes.py:2249\u001b[0m, in \u001b[0;36m<listcomp>\u001b[0;34m(.0)\u001b[0m\n\u001b[1;32m   2239\u001b[0m     data \u001b[39m=\u001b[39m \u001b[39mlist\u001b[39m(\n\u001b[1;32m   2240\u001b[0m         \u001b[39mfilter\u001b[39m(\n\u001b[1;32m   2241\u001b[0m             \u001b[39mlambda\u001b[39;00m trace: \u001b[39mself\u001b[39m\u001b[39m.\u001b[39m_subplot_not_empty(\n\u001b[0;32m   (...)\u001b[0m\n\u001b[1;32m   2245\u001b[0m         )\n\u001b[1;32m   2246\u001b[0m     )\n\u001b[1;32m   2248\u001b[0m \u001b[39m# Make deep copy of trace data (Optimize later if needed)\u001b[39;00m\n\u001b[0;32m-> 2249\u001b[0m new_traces_data \u001b[39m=\u001b[39m [deepcopy(trace\u001b[39m.\u001b[39;49m_props) \u001b[39mfor\u001b[39;00m trace \u001b[39min\u001b[39;00m data]\n\u001b[1;32m   2251\u001b[0m \u001b[39m# Update trace parent\u001b[39;00m\n\u001b[1;32m   2252\u001b[0m \u001b[39mfor\u001b[39;00m trace \u001b[39min\u001b[39;00m data:\n",
      "File \u001b[0;32m/usr/lib/python3.8/copy.py:146\u001b[0m, in \u001b[0;36mdeepcopy\u001b[0;34m(x, memo, _nil)\u001b[0m\n\u001b[1;32m    144\u001b[0m copier \u001b[39m=\u001b[39m _deepcopy_dispatch\u001b[39m.\u001b[39mget(\u001b[39mcls\u001b[39m)\n\u001b[1;32m    145\u001b[0m \u001b[39mif\u001b[39;00m copier \u001b[39mis\u001b[39;00m \u001b[39mnot\u001b[39;00m \u001b[39mNone\u001b[39;00m:\n\u001b[0;32m--> 146\u001b[0m     y \u001b[39m=\u001b[39m copier(x, memo)\n\u001b[1;32m    147\u001b[0m \u001b[39melse\u001b[39;00m:\n\u001b[1;32m    148\u001b[0m     \u001b[39mif\u001b[39;00m \u001b[39missubclass\u001b[39m(\u001b[39mcls\u001b[39m, \u001b[39mtype\u001b[39m):\n",
      "File \u001b[0;32m/usr/lib/python3.8/copy.py:230\u001b[0m, in \u001b[0;36m_deepcopy_dict\u001b[0;34m(x, memo, deepcopy)\u001b[0m\n\u001b[1;32m    228\u001b[0m memo[\u001b[39mid\u001b[39m(x)] \u001b[39m=\u001b[39m y\n\u001b[1;32m    229\u001b[0m \u001b[39mfor\u001b[39;00m key, value \u001b[39min\u001b[39;00m x\u001b[39m.\u001b[39mitems():\n\u001b[0;32m--> 230\u001b[0m     y[deepcopy(key, memo)] \u001b[39m=\u001b[39m deepcopy(value, memo)\n\u001b[1;32m    231\u001b[0m \u001b[39mreturn\u001b[39;00m y\n",
      "File \u001b[0;32m/usr/lib/python3.8/copy.py:153\u001b[0m, in \u001b[0;36mdeepcopy\u001b[0;34m(x, memo, _nil)\u001b[0m\n\u001b[1;32m    151\u001b[0m copier \u001b[39m=\u001b[39m \u001b[39mgetattr\u001b[39m(x, \u001b[39m\"\u001b[39m\u001b[39m__deepcopy__\u001b[39m\u001b[39m\"\u001b[39m, \u001b[39mNone\u001b[39;00m)\n\u001b[1;32m    152\u001b[0m \u001b[39mif\u001b[39;00m copier \u001b[39mis\u001b[39;00m \u001b[39mnot\u001b[39;00m \u001b[39mNone\u001b[39;00m:\n\u001b[0;32m--> 153\u001b[0m     y \u001b[39m=\u001b[39m copier(memo)\n\u001b[1;32m    154\u001b[0m \u001b[39melse\u001b[39;00m:\n\u001b[1;32m    155\u001b[0m     reductor \u001b[39m=\u001b[39m dispatch_table\u001b[39m.\u001b[39mget(\u001b[39mcls\u001b[39m)\n",
      "\u001b[0;31mKeyboardInterrupt\u001b[0m: "
     ]
    }
   ],
   "source": [
    "from PIL import Image\n",
    "import pandas as pd\n",
    "import plotly.express as px\n",
    "\n",
    "# Open the image\n",
    "img = Image.open('/home/trudes/XAI/sem_seg_grad_cam.jpg')\n",
    "pixels = img.load()\n",
    "\n",
    "# Create a DataFrame for the pixels\n",
    "data = {'x': [], 'y': [], 'color': []}\n",
    "print(\"converting image\")\n",
    "for x in range(img.width):\n",
    "    for y in range(img.height):\n",
    "        data['x'].append(x)\n",
    "        data['y'].append(y)\n",
    "        # Assuming the image is RGB, convert the color to a hex string\n",
    "        data['color'].append('#%02x%02x%02x' % pixels[x, y][:3])\n",
    "    #print(\"processed rows:\",x, range(img.width))\n",
    "\n",
    "df = pd.DataFrame(data)\n",
    "\n",
    "print(\"creating plot\")\n",
    "# Create a scatter plot\n",
    "fig = px.scatter(df, x='x', y='y', color='color')\n",
    "\n",
    "# Update marker properties\n",
    "fig.update_traces(marker=dict(size=1, line=dict(width=0), symbol='square'))\n",
    "\n",
    "print(\"displaying image\")\n",
    "# Disable the legend and adjust the layout\n",
    "fig.update_layout(showlegend=False, plot_bgcolor='rgba(0,0,0,0)')\n",
    "print(\"show fig\")\n",
    "fig.show()\n"
   ]
  }
 ],
 "metadata": {
  "kernelspec": {
   "display_name": "woods_venv",
   "language": "python",
   "name": "python3"
  },
  "language_info": {
   "codemirror_mode": {
    "name": "ipython",
    "version": 3
   },
   "file_extension": ".py",
   "mimetype": "text/x-python",
   "name": "python",
   "nbconvert_exporter": "python",
   "pygments_lexer": "ipython3",
   "version": "3.8.10"
  }
 },
 "nbformat": 4,
 "nbformat_minor": 2
}
