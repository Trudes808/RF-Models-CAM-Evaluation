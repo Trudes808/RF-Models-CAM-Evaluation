{
 "cells": [
  {
   "cell_type": "markdown",
   "metadata": {},
   "source": [
    "# fft score cam visualization tool\n"
   ]
  },
  {
   "cell_type": "markdown",
   "metadata": {},
   "source": [
    "### Imports"
   ]
  },
  {
   "cell_type": "code",
   "execution_count": 1,
   "metadata": {},
   "outputs": [
    {
     "data": {
      "text/html": [
       "\n",
       "        <iframe\n",
       "            width=\"100%\"\n",
       "            height=\"650\"\n",
       "            src=\"http://127.0.0.1:8050/\"\n",
       "            frameborder=\"0\"\n",
       "            allowfullscreen\n",
       "            \n",
       "        ></iframe>\n",
       "        "
      ],
      "text/plain": [
       "<IPython.lib.display.IFrame at 0x7fa96fd20af0>"
      ]
     },
     "metadata": {},
     "output_type": "display_data"
    }
   ],
   "source": [
    "from dash import Dash, dcc, html, Input, Output, callback_context\n",
    "import plotly.express as px\n",
    "from PIL import Image\n",
    "import numpy as np\n",
    "import pandas as pd\n",
    "import base64\n",
    "import io\n",
    "\n",
    "app = Dash(__name__)\n",
    "\n",
    "app.layout = html.Div([\n",
    "    html.H1(\"Upload Image for Heatmap\"),\n",
    "    dcc.Upload(\n",
    "        id='upload-image',\n",
    "        children=html.Button('Upload Image'),\n",
    "        multiple=False\n",
    "    ),\n",
    "    dcc.Graph(id='image-heatmap', style={'height': '80vh', 'width': '100%'}),\n",
    "    html.Button('Reset Zoom', id='btn-reset-zoom')\n",
    "])\n",
    "\n",
    "def parse_contents(contents):\n",
    "    content_type, content_string = contents.split(',')\n",
    "    decoded = base64.b64decode(content_string)\n",
    "    img = Image.open(io.BytesIO(decoded))\n",
    "    gray_img = img.convert('L')\n",
    "    img_array = np.array(gray_img)\n",
    "    df = pd.DataFrame(img_array)\n",
    "    fig = px.imshow(df, color_continuous_scale='viridis')\n",
    "    # Allow free zooming by disabling axis constraints\n",
    "    fig.update_layout(\n",
    "        xaxis=dict(constrain='range', autorange=True),\n",
    "        yaxis=dict(constrain='range', autorange=True),\n",
    "        margin={'t': 0, 'b': 0, 'l': 0, 'r': 0},\n",
    "        autosize=True\n",
    "    )\n",
    "    return fig\n",
    "\n",
    "@app.callback(\n",
    "    Output('image-heatmap', 'figure'),\n",
    "    Input('upload-image', 'contents')\n",
    ")\n",
    "def update_output(contents):\n",
    "    if contents is not None:\n",
    "        return parse_contents(contents)\n",
    "    else:\n",
    "        # Return an empty figure or some default figure\n",
    "        return px.imshow(pd.DataFrame(), color_continuous_scale='viridis')\n",
    "\n",
    "@app.callback(\n",
    "    Output('image-heatmap', 'style'),\n",
    "    [Input('image-heatmap', 'relayoutData'),\n",
    "     Input('btn-reset-zoom', 'n_clicks')],\n",
    "    prevent_initial_call=True\n",
    ")\n",
    "def resize_plot_on_zoom(relayout_data, n_clicks):\n",
    "    if not callback_context.triggered:\n",
    "        return dash.no_update\n",
    "    \n",
    "    prop_id = callback_context.triggered[0]['prop_id']\n",
    "    if 'btn-reset-zoom' in prop_id:\n",
    "        return {'height': '80vh', 'width': '100%'}\n",
    "    elif 'image-heatmap.relayoutData' in prop_id:\n",
    "        # Check if zooming in\n",
    "        if relayout_data and ('xaxis.range[0]' in relayout_data or 'yaxis.range[0]' in relayout_data):\n",
    "            return {'height': '90vh', 'width': '100%'}\n",
    "    return {'height': '80vh', 'width': '100%'}\n",
    "\n",
    "if __name__ == '__main__':\n",
    "    app.run_server(debug=True)\n"
   ]
  }
 ],
 "metadata": {
  "kernelspec": {
   "display_name": "woods_venv",
   "language": "python",
   "name": "python3"
  },
  "language_info": {
   "codemirror_mode": {
    "name": "ipython",
    "version": 3
   },
   "file_extension": ".py",
   "mimetype": "text/x-python",
   "name": "python",
   "nbconvert_exporter": "python",
   "pygments_lexer": "ipython3",
   "version": "3.8.10"
  }
 },
 "nbformat": 4,
 "nbformat_minor": 2
}
